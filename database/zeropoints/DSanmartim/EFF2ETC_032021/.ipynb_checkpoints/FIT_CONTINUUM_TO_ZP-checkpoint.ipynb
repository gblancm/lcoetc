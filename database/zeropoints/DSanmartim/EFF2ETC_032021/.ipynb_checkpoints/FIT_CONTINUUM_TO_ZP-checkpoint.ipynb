{
 "cells": [
  {
   "cell_type": "markdown",
   "metadata": {},
   "source": [
    "# Fitting Continuum to Zero Points\n",
    "\n",
    "---\n",
    "This notebook is used mainly to read the eff files in Franchesco's format, fit a continuum to the zero points and save results in either Franchesco's or ECT's format. The continuum is fitted based on user inputs and using rejection criteria\n",
    "to exclude spikes, emission/absoption lines and bad fitting. \n",
    "\n",
    "## ToDo\n",
    "\n",
    "- add optional exclusion regions (with SpectralRegion); \n",
    "- add rms and chi-square statistics to model.\n",
    "\n"
   ]
  },
  {
   "cell_type": "code",
   "execution_count": 1,
   "metadata": {},
   "outputs": [],
   "source": [
    "import numpy as np\n",
    "import matplotlib.pyplot as plt\n",
    "\n",
    "from scipy.interpolate import interp1d\n",
    "\n",
    "from specutils.spectra import Spectrum1D, SpectralRegion\n",
    "from specutils.fitting import fit_generic_continuum\n",
    "\n",
    "from astropy.io import ascii\n",
    "from astropy import units as u\n",
    "from astropy.stats import sigma_clip, mad_std\n",
    "from astropy.modeling.models import Chebyshev1D, Legendre1D\n",
    "from astropy.modeling.fitting import LinearLSQFitter\n",
    "\n",
    "# For jupyter notebook uncomment this\n",
    "#%matplotlib notebook   \n",
    "\n",
    "# This is for jupyter lab\n",
    "%matplotlib widget      \n"
   ]
  },
  {
   "cell_type": "markdown",
   "metadata": {},
   "source": [
    "## Defining some functions\n",
    "---"
   ]
  },
  {
   "cell_type": "code",
   "execution_count": 38,
   "metadata": {},
   "outputs": [],
   "source": [
    "def read_ascii(file, header_start=2, data_start=3):\n",
    "    \n",
    "    data=ascii.read(file, header_start=header_start, data_start=data_start)\n",
    "\n",
    "    order=data['ap_id'].data\n",
    "    lam=data['lambda'].data\n",
    "    eff = data['efficency'].data\n",
    "    zplam=data['zero_point'].data\n",
    "    \n",
    "    return order, lam, zplam, eff\n",
    "\n",
    "\n",
    "# This is the main function and it might work for any np.array given as input (x, y)\n",
    "def fit_continuum(x, y, sigma_lower=3, sigma_upper=5, niter=3, fit_func = 'legendre', fit_order=7, \n",
    "                  plot_fit = True):\n",
    "    \n",
    "    if fit_func.lower() == 'legendre':\n",
    "        model = Legendre1D(degree=fit_order)\n",
    "    elif fit_func.lower() == 'chebyshev':\n",
    "        model = Chebyshev1D(degree=fit_order)\n",
    "    else:\n",
    "        print('fit_func parameter requires a \"Legendre\" or \"Chebyshev\" function.')\n",
    "    \n",
    "    # Original data\n",
    "    xo, yo = np.copy(x), np.copy(y)\n",
    "    \n",
    "    if niter > 0:\n",
    "        \n",
    "        # Fit continuum before looping\n",
    "        spectrum = Spectrum1D(spectral_axis=x*u.angstrom, flux=y*u.mag)\n",
    "        g_fit = fit_generic_continuum(spectrum, model=model, fitter=LinearLSQFitter())\n",
    "        y_fit = g_fit(x*u.angstrom)\n",
    "       \n",
    "        xbad, ybad = np.asanyarray([]), np.asanyarray([])\n",
    "        for i in range(1, niter+1):\n",
    "            \n",
    "            # Getting residuo\n",
    "            residuo = y - y_fit.value\n",
    "\n",
    "            # Filtering data\n",
    "            filtered_data = sigma_clip(residuo, sigma_lower=sigma_lower, sigma_upper=sigma_upper, maxiters=1, \n",
    "                                       masked=True, stdfunc=mad_std)\n",
    "            \n",
    "            # x dimension before filtering data\n",
    "            len_before = len(x)  \n",
    "            \n",
    "            # Getting only bad data\n",
    "            xbad, ybad = np.append(xbad, x[filtered_data.mask]), np.append(ybad, y[filtered_data.mask])\n",
    "            \n",
    "            # Getting only good data (inverse of mask)\n",
    "            x, y = x[~filtered_data.mask], y[~filtered_data.mask]\n",
    "            \n",
    "            # x dimension after filtering data\n",
    "            len_after = len(x)\n",
    "            print('Iteration {}: Rejected points ==> {}'.format(i, len_before - len_after))            \n",
    "            \n",
    "            # New fitting after filtering data\n",
    "            spectrum = Spectrum1D(spectral_axis=x*u.angstrom, flux=y*u.mag)\n",
    "            g_fit = fit_generic_continuum(spectrum, model=model, fitter=LinearLSQFitter())\n",
    "            y_fit = g_fit(x*u.angstrom)\n",
    "    \n",
    "        \n",
    "    if plot_fit:\n",
    "        \n",
    "        # Displaying\n",
    "        fig, ax = plt.subplots(1,1, figsize=(10, 4), facecolor='w', edgecolor='k')\n",
    "    \n",
    "        # Plot good data\n",
    "        ax.plot(xo, yo, '-', alpha=0.5, color='tab:blue', label='original data')\n",
    "        ax.plot(xo, yo, '.', alpha=0.5, color='tab:blue')\n",
    "    \n",
    "        # Plot rejected data\n",
    "        label = '{:d} rejected from {:d} points'.format(len(xo) - len(x), len(xo))\n",
    "        ax.plot(xbad, ybad, 'x', alpha=0.5, color='tab:red', label=label)\n",
    "    \n",
    "        # Plot best fit\n",
    "        ax.plot(xo, g_fit(xo*u.angstrom), linestyle='-', color='orange', label='fitted model')\n",
    "        ax.legend(loc='best')\n",
    "        \n",
    "    # return original x data, fitted model and rejected points (x,y)\n",
    "    return xo, g_fit(xo*u.angstrom).value, xbad, ybad\n",
    "    \n",
    "\n",
    "def smooth_zpt_data(file, niter=3, sigma_lower=3, sigma_upper=3, fit_func='chebyshev', fit_order=4,\n",
    "                    save_fig=False, save_results=False, output_format='lco'):\n",
    "\n",
    "    # Getout output suffix\n",
    "    suffix = 'dat' if output_format.lower() =='lco' else 'eff2'\n",
    "        \n",
    "    # It fits a continuum to the mag column from Franchesco's eff files \n",
    "    order, x, y, eff = read_ascii(file, header_start=2, data_start=0)\n",
    "    \n",
    "    # Getting unique order\n",
    "    uorder = np.unique(order)\n",
    "    \n",
    "    # Figure object\n",
    "    fig, ax =  plt.subplots(figsize=(10,4))\n",
    " \n",
    "    fig.canvas.header_visible = False    \n",
    "\n",
    "    # Initialize good and rejected arrays\n",
    "    good, rejected, yfitted = np.asarray([]), np.asarray([]), np.asarray([])\n",
    "    for i in range(len(uorder)):\n",
    "        \n",
    "        # Getting lambda and mag\n",
    "        _x, _y = x[order == uorder[i]], y[order == uorder[i]]\n",
    "    \n",
    "        # Fitting model\n",
    "        xfit, yfit, xbad, ybad = fit_continuum(_x, _y, niter=niter, sigma_lower=sigma_lower, \n",
    "                                           sigma_upper=sigma_upper, fit_func=fit_func,\n",
    "                                           fit_order=fit_order, plot_fit=False)\n",
    "        \n",
    "        # Append good and rejected points or each order to main array\n",
    "        rejected = np.append(rejected, xbad)\n",
    "        good = np.append(good, xfit)\n",
    "        yfitted = np.append(yfitted, yfit)\n",
    "    \n",
    "        # Plotting original data, rejected poins and model\n",
    "        label = 'original data' if i==0 else None\n",
    "        ax.plot(_x, _y, '-', alpha=0.7, color='tab:blue', label=label)\n",
    "        ax.plot(_x, _y, '.', alpha=0.5, color='tab:blue')\n",
    "        \n",
    "        # Label for rejected points (after last iteration)\n",
    "        message = '{} rejected from {} points in total'.format(len(rejected), len(good))\n",
    "        label = message if i==(len(uorder) -1) else None\n",
    "        plt.plot(xbad, ybad, 'x', alpha=-0.3, color='tab:red', label=label)\n",
    "\n",
    "        ax.plot(xfit, yfit, '-', color='orange', label='fitted model' if i==0 else None)\n",
    "\n",
    "    ax.set_title('Fit Func = {}  Order = {}'.format(fit_func.title(), fit_order))\n",
    "    ax.set_xlabel(r'Wavelength [$\\AA$]')\n",
    "    ax.set_ylabel('Flux [mag]')  \n",
    "    ax.legend(loc='best')\n",
    "    \n",
    "    if save_results:\n",
    "        \n",
    "        output_filename = file.replace('eff', suffix)\n",
    "        write_eff(order, x, eff, yfitted, output_filename, output_format=output_format)\n",
    "    \n",
    "    if save_fig:\n",
    "        print('Figure saved as {}'.format(file.replace('eff', 'png')))\n",
    "        plt.savefig(file.replace('eff', 'png'))\n",
    "    \n",
    "    return x, yfitted\n",
    "    \n",
    "def write_eff(order, lam, eff, mag,  output_filename, output_format='francesco'):\n",
    "\n",
    "    # print result\n",
    "    if output_format.lower() == 'francesco':\n",
    "        \n",
    "        # Adding 3 commented lines\n",
    "        comment = '''# \\n# \\n# '''    \n",
    "        ascii.write([order, lam, eff, mag], output_filename, overwrite=True, format='commented_header', \n",
    "                    names=['ap_id', 'lambda', 'efficency', 'zero_point'], comment=comment)\n",
    "#                    formats={'ap_id':'%d', 'lambda':'%.2f', 'efficency':'%.2f', 'zero_point':'%.2f'})\n",
    "        \n",
    "        print('\\nOutput saved as {}'.format(output_filename))\n",
    "\n",
    "    \n",
    "    elif output_format.lower() == 'lco':\n",
    "        \n",
    "        ascii.write([lam, mag], output_filename, overwrite=True, format='commented_header', \n",
    "                    names=['lambda', 'zeropoint'])# , formats={'lambda':'%.2f', 'zeropoint':'%.2f'})\n",
    "\n",
    "        print('\\nOutput saved as {}'.format(output_filename))\n",
    "\n",
    "    else:\n",
    "        \n",
    "        print('\\nOutput not saved. Format might be \"francesco\" or \"lco\".')\n",
    "        "
   ]
  },
  {
   "cell_type": "markdown",
   "metadata": {},
   "source": [
    "## Generating the smoothed zero points (.eff2) \n",
    "---"
   ]
  },
  {
   "cell_type": "code",
   "execution_count": 44,
   "metadata": {},
   "outputs": [
    {
     "data": {
      "application/vnd.jupyter.widget-view+json": {
       "model_id": "70f4e2625bb34fc6a778c0ea3a5c592b",
       "version_major": 2,
       "version_minor": 0
      },
      "text/plain": [
       "Canvas(toolbar=Toolbar(toolitems=[('Home', 'Reset original view', 'home', 'home'), ('Back', 'Back to previous …"
      ]
     },
     "metadata": {},
     "output_type": "display_data"
    },
    {
     "name": "stdout",
     "output_type": "stream",
     "text": [
      "Iteration 1: Rejected points ==> 64\n"
     ]
    }
   ],
   "source": [
    "file = 'LDSS/LDSS3_2020-11-25_LTT1788_VPH-All_Open.eff'\n",
    "\n",
    "# Before running it, make sure you really want to save fig and results, because it will overwrite data anything\n",
    "# that have already been created. Parameters save_fig and save_rusults set as False (or None) will disable the\n",
    "# saving feature.\n",
    "\n",
    "x, y = smooth_zpt_data(file, niter=1, sigma_lower=3.0, sigma_upper=7.0, fit_func='chebyshev', fit_order=11,\n",
    "                       save_fig=None, save_results=None, output_format='lco')"
   ]
  },
  {
   "cell_type": "code",
   "execution_count": 45,
   "metadata": {},
   "outputs": [],
   "source": [
    "# This is just to check the output... can be deleted. "
   ]
  },
  {
   "cell_type": "code",
   "execution_count": 46,
   "metadata": {},
   "outputs": [],
   "source": [
    "data=ascii.read(file.replace('eff', 'dat'), header_start=0, data_start=0)\n",
    "\n",
    "lam=data['lambda'].data\n",
    "zplam=data['zeropoint'].data\n",
    "\n",
    "# Interpolation\n",
    "f=interp1d(lam, zplam, kind='linear', bounds_error=False, fill_value=0)"
   ]
  },
  {
   "cell_type": "code",
   "execution_count": 49,
   "metadata": {},
   "outputs": [
    {
     "data": {
      "application/vnd.jupyter.widget-view+json": {
       "model_id": "6ab397d47cef4a29ab8cba55c7cb05d2",
       "version_major": 2,
       "version_minor": 0
      },
      "text/plain": [
       "Canvas(toolbar=Toolbar(toolitems=[('Home', 'Reset original view', 'home', 'home'), ('Back', 'Back to previous …"
      ]
     },
     "metadata": {},
     "output_type": "display_data"
    },
    {
     "data": {
      "text/plain": [
       "[<matplotlib.lines.Line2D at 0x1410b0310>]"
      ]
     },
     "execution_count": 49,
     "metadata": {},
     "output_type": "execute_result"
    }
   ],
   "source": [
    "fig, ax  = plt.subplots(figsize=(10,4))\n",
    "\n",
    "ax.plot(x, y, '*')\n",
    "#ax.plot(lam, zplam, '.')\n",
    "ax.plot(lam, f(lam), '-')\n"
   ]
  },
  {
   "cell_type": "code",
   "execution_count": null,
   "metadata": {},
   "outputs": [],
   "source": []
  }
 ],
 "metadata": {
  "kernelspec": {
   "display_name": "Python 3",
   "language": "python",
   "name": "python3"
  },
  "language_info": {
   "codemirror_mode": {
    "name": "ipython",
    "version": 3
   },
   "file_extension": ".py",
   "mimetype": "text/x-python",
   "name": "python",
   "nbconvert_exporter": "python",
   "pygments_lexer": "ipython3",
   "version": "3.7.4"
  }
 },
 "nbformat": 4,
 "nbformat_minor": 4
}
